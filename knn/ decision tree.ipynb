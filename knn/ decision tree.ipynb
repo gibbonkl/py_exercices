{
 "metadata": {
  "language_info": {
   "codemirror_mode": {
    "name": "ipython",
    "version": 3
   },
   "file_extension": ".py",
   "mimetype": "text/x-python",
   "name": "python",
   "nbconvert_exporter": "python",
   "pygments_lexer": "ipython3",
   "version": "3.8.10"
  },
  "orig_nbformat": 4,
  "kernelspec": {
   "name": "python3",
   "display_name": "Python 3.8.10 64-bit"
  },
  "interpreter": {
   "hash": "916dbcbb3f70747c44a77c7bcd40155683ae19c65e1c03b4aa3499c5328201f1"
  }
 },
 "nbformat": 4,
 "nbformat_minor": 2,
 "cells": [
  {
   "cell_type": "code",
   "execution_count": 1,
   "metadata": {},
   "outputs": [],
   "source": [
    "import pandas as pd\n",
    "import matplotlib.pyplot as plt"
   ]
  },
  {
   "source": [
    "#### importação de dados ###"
   ],
   "cell_type": "markdown",
   "metadata": {}
  },
  {
   "cell_type": "code",
   "execution_count": 2,
   "metadata": {},
   "outputs": [
    {
     "output_type": "stream",
     "name": "stdout",
     "text": [
      "<class 'pandas.core.frame.DataFrame'>\nInt64Index: 3944 entries, 0 to 3943\nData columns (total 13 columns):\n #   Column       Non-Null Count  Dtype  \n---  ------       --------------  -----  \n 0   condominio   3944 non-null   float64\n 1   anunciante   3944 non-null   object \n 2   num_suites   3944 non-null   float64\n 3   num_vagas    3944 non-null   float64\n 4   num_quartos  3944 non-null   float64\n 5   area         3944 non-null   float64\n 6   rua          2932 non-null   object \n 7   regiao       3944 non-null   object \n 8   descricao    3764 non-null   object \n 9   tipo_imovel  3944 non-null   object \n 10  localidade   3944 non-null   object \n 11  bairro       3944 non-null   object \n 12  preco        3944 non-null   int64  \ndtypes: float64(5), int64(1), object(7)\nmemory usage: 431.4+ KB\n"
     ]
    }
   ],
   "source": [
    "df = pd.read_csv('zap_imoveis.csv', index_col='id')\n",
    "df.info()"
   ]
  },
  {
   "source": [
    "#### limpeza da base"
   ],
   "cell_type": "markdown",
   "metadata": {}
  },
  {
   "cell_type": "code",
   "execution_count": 3,
   "metadata": {},
   "outputs": [
    {
     "output_type": "execute_result",
     "data": {
      "text/plain": [
       "id                0       1       2       3       4\n",
       "condominio      0.0     0.0    18.0   230.0   680.0\n",
       "num_suites      2.0     0.0     0.0     0.0     1.0\n",
       "num_vagas       2.0     0.0     1.0     1.0     1.0\n",
       "num_quartos     3.0     0.0     2.0     2.0     3.0\n",
       "area          150.0   360.0    45.0    55.0   147.0\n",
       "tipo_imovel    Casa    Casa    Casa    Casa    Casa\n",
       "preco        570000  200000  170000  250000  600000"
      ],
      "text/html": "<div>\n<style scoped>\n    .dataframe tbody tr th:only-of-type {\n        vertical-align: middle;\n    }\n\n    .dataframe tbody tr th {\n        vertical-align: top;\n    }\n\n    .dataframe thead th {\n        text-align: right;\n    }\n</style>\n<table border=\"1\" class=\"dataframe\">\n  <thead>\n    <tr style=\"text-align: right;\">\n      <th>id</th>\n      <th>0</th>\n      <th>1</th>\n      <th>2</th>\n      <th>3</th>\n      <th>4</th>\n    </tr>\n  </thead>\n  <tbody>\n    <tr>\n      <th>condominio</th>\n      <td>0.0</td>\n      <td>0.0</td>\n      <td>18.0</td>\n      <td>230.0</td>\n      <td>680.0</td>\n    </tr>\n    <tr>\n      <th>num_suites</th>\n      <td>2.0</td>\n      <td>0.0</td>\n      <td>0.0</td>\n      <td>0.0</td>\n      <td>1.0</td>\n    </tr>\n    <tr>\n      <th>num_vagas</th>\n      <td>2.0</td>\n      <td>0.0</td>\n      <td>1.0</td>\n      <td>1.0</td>\n      <td>1.0</td>\n    </tr>\n    <tr>\n      <th>num_quartos</th>\n      <td>3.0</td>\n      <td>0.0</td>\n      <td>2.0</td>\n      <td>2.0</td>\n      <td>3.0</td>\n    </tr>\n    <tr>\n      <th>area</th>\n      <td>150.0</td>\n      <td>360.0</td>\n      <td>45.0</td>\n      <td>55.0</td>\n      <td>147.0</td>\n    </tr>\n    <tr>\n      <th>tipo_imovel</th>\n      <td>Casa</td>\n      <td>Casa</td>\n      <td>Casa</td>\n      <td>Casa</td>\n      <td>Casa</td>\n    </tr>\n    <tr>\n      <th>preco</th>\n      <td>570000</td>\n      <td>200000</td>\n      <td>170000</td>\n      <td>250000</td>\n      <td>600000</td>\n    </tr>\n  </tbody>\n</table>\n</div>"
     },
     "metadata": {},
     "execution_count": 3
    }
   ],
   "source": [
    "df = df.drop(['anunciante','descricao','localidade','rua','regiao','bairro'], axis = 1)\n",
    "df = df.query(\"tipo_imovel == 'Apartamento' or tipo_imovel == 'Casa' or tipo_imovel == 'Casa de Condomínio'\")\n",
    "df.head().T"
   ]
  },
  {
   "cell_type": "code",
   "execution_count": 4,
   "metadata": {},
   "outputs": [
    {
     "output_type": "execute_result",
     "data": {
      "text/plain": [
       "Apartamento           1623\n",
       "Casa                  1502\n",
       "Casa de Condomínio     150\n",
       "Name: tipo_imovel, dtype: int64"
      ]
     },
     "metadata": {},
     "execution_count": 4
    }
   ],
   "source": [
    "df['tipo_imovel'].value_counts()\n"
   ]
  },
  {
   "source": [
    "## KNN"
   ],
   "cell_type": "markdown",
   "metadata": {}
  },
  {
   "source": [
    "#### definição de dados de treino e teste"
   ],
   "cell_type": "markdown",
   "metadata": {}
  },
  {
   "cell_type": "code",
   "execution_count": 5,
   "metadata": {},
   "outputs": [],
   "source": [
    "from sklearn.model_selection import train_test_split\n",
    "X_train, X_test, y_train, y_test = train_test_split(df.drop('tipo_imovel',axis=1), df['tipo_imovel'], test_size=0.3)"
   ]
  },
  {
   "source": [
    "#### normalização dos dados"
   ],
   "cell_type": "markdown",
   "metadata": {}
  },
  {
   "cell_type": "code",
   "execution_count": 6,
   "metadata": {},
   "outputs": [],
   "source": [
    "from sklearn.preprocessing import StandardScaler\n",
    "\n",
    "scaler = StandardScaler()  \n",
    "scaler.fit(X_train)\n",
    "X_train = scaler.transform(X_train)  \n",
    "X_test = scaler.transform(X_test)"
   ]
  },
  {
   "source": [
    "#### Definição do número de vizinhos no classificador"
   ],
   "cell_type": "markdown",
   "metadata": {}
  },
  {
   "cell_type": "code",
   "execution_count": 7,
   "metadata": {},
   "outputs": [],
   "source": [
    "from sklearn.neighbors import KNeighborsClassifier\n",
    "knn = KNeighborsClassifier(n_neighbors=3)"
   ]
  },
  {
   "source": [
    "#### aplicando dados de treino ao knn"
   ],
   "cell_type": "markdown",
   "metadata": {}
  },
  {
   "cell_type": "code",
   "execution_count": 8,
   "metadata": {},
   "outputs": [
    {
     "output_type": "execute_result",
     "data": {
      "text/plain": [
       "KNeighborsClassifier(n_neighbors=3)"
      ]
     },
     "metadata": {},
     "execution_count": 8
    }
   ],
   "source": [
    "knn.fit(X_train, y_train)"
   ]
  },
  {
   "source": [
    "#### aplicando knn aos dados de teste"
   ],
   "cell_type": "markdown",
   "metadata": {}
  },
  {
   "cell_type": "code",
   "execution_count": 9,
   "metadata": {},
   "outputs": [],
   "source": [
    "resultado = knn.predict(X_test)"
   ]
  },
  {
   "source": [
    "#### criando matriz de confusão"
   ],
   "cell_type": "markdown",
   "metadata": {}
  },
  {
   "cell_type": "code",
   "execution_count": 10,
   "metadata": {},
   "outputs": [
    {
     "output_type": "stream",
     "name": "stdout",
     "text": [
      "Predicted           Apartamento  Casa  Casa de Condomínio  All\nReal                                                          \nApartamento                 384    86                   7  477\nCasa                         69   371                  11  451\nCasa de Condomínio           25    18                  12   55\nAll                         478   475                  30  983\n"
     ]
    }
   ],
   "source": [
    "print (pd.crosstab(y_test,resultado, rownames=['Real'], colnames=['Predicted'], margins=True))"
   ]
  },
  {
   "source": [
    "#### Relatório da classificação KNN"
   ],
   "cell_type": "markdown",
   "metadata": {}
  },
  {
   "cell_type": "code",
   "execution_count": 11,
   "metadata": {},
   "outputs": [
    {
     "output_type": "stream",
     "name": "stdout",
     "text": [
      "                    precision    recall  f1-score   support\n\n       Apartamento       0.80      0.81      0.80       477\n              Casa       0.78      0.82      0.80       451\nCasa de Condomínio       0.40      0.22      0.28        55\n\n          accuracy                           0.78       983\n         macro avg       0.66      0.62      0.63       983\n      weighted avg       0.77      0.78      0.77       983\n\n"
     ]
    }
   ],
   "source": [
    "from sklearn import metrics\n",
    "print(metrics.classification_report(y_test,resultado))"
   ]
  },
  {
   "source": [
    "#### verificando ajustes para o modelo ###"
   ],
   "cell_type": "markdown",
   "metadata": {}
  },
  {
   "cell_type": "code",
   "execution_count": 12,
   "metadata": {},
   "outputs": [],
   "source": [
    "from sklearn.model_selection import GridSearchCV\n"
   ]
  },
  {
   "source": [
    "#### adicionando a quantidade de valores para k (número de vizinhos) a um dicionário ###"
   ],
   "cell_type": "markdown",
   "metadata": {}
  },
  {
   "cell_type": "code",
   "execution_count": 13,
   "metadata": {},
   "outputs": [],
   "source": [
    "k_list = list(range(1,31))\n",
    "parametros = dict(n_neighbors=k_list)\n"
   ]
  },
  {
   "source": [
    "#### passando nosso modelo, os valores para k, dobras pra validação cruzada e o scoring para o objeto GridSearch ###"
   ],
   "cell_type": "markdown",
   "metadata": {}
  },
  {
   "cell_type": "code",
   "execution_count": 14,
   "metadata": {},
   "outputs": [],
   "source": [
    "grid = GridSearchCV(knn, parametros, cv=5, scoring='accuracy')\n"
   ]
  },
  {
   "source": [
    "#### treinando o objeto ###"
   ],
   "cell_type": "markdown",
   "metadata": {}
  },
  {
   "cell_type": "code",
   "execution_count": 15,
   "metadata": {
    "tags": []
   },
   "outputs": [
    {
     "output_type": "execute_result",
     "data": {
      "text/plain": [
       "GridSearchCV(cv=5, estimator=KNeighborsClassifier(n_neighbors=3),\n",
       "             param_grid={'n_neighbors': [1, 2, 3, 4, 5, 6, 7, 8, 9, 10, 11, 12,\n",
       "                                         13, 14, 15, 16, 17, 18, 19, 20, 21, 22,\n",
       "                                         23, 24, 25, 26, 27, 28, 29, 30]},\n",
       "             scoring='accuracy')"
      ]
     },
     "metadata": {},
     "execution_count": 15
    }
   ],
   "source": [
    "grid.fit(df.drop('tipo_imovel',axis=1), df['tipo_imovel'])"
   ]
  },
  {
   "source": [
    "#### descobrindo o parâmetro com melhor acurácia ###"
   ],
   "cell_type": "markdown",
   "metadata": {}
  },
  {
   "cell_type": "code",
   "execution_count": 16,
   "metadata": {},
   "outputs": [
    {
     "output_type": "stream",
     "name": "stdout",
     "text": [
      "Melhor parâmetro {'n_neighbors': 3} com acurácia de 0.7282442748091602 \n"
     ]
    }
   ],
   "source": [
    "print(\"Melhor parâmetro {} com acurácia de {} \".format(grid.best_params_,grid.best_score_))"
   ]
  },
  {
   "source": [
    "## Decision Tree\n"
   ],
   "cell_type": "markdown",
   "metadata": {}
  },
  {
   "cell_type": "code",
   "execution_count": 17,
   "metadata": {},
   "outputs": [],
   "source": [
    "from sklearn.tree import DecisionTreeClassifier"
   ]
  },
  {
   "source": [
    "#### verificação das formas dos dados"
   ],
   "cell_type": "markdown",
   "metadata": {}
  },
  {
   "cell_type": "code",
   "execution_count": 18,
   "metadata": {},
   "outputs": [
    {
     "output_type": "execute_result",
     "data": {
      "text/plain": [
       "((2292, 6), (983, 6))"
      ]
     },
     "metadata": {},
     "execution_count": 18
    }
   ],
   "source": [
    "X_train.shape,X_test.shape"
   ]
  },
  {
   "cell_type": "code",
   "execution_count": 19,
   "metadata": {},
   "outputs": [
    {
     "output_type": "execute_result",
     "data": {
      "text/plain": [
       "((2292,), (983,))"
      ]
     },
     "metadata": {},
     "execution_count": 19
    }
   ],
   "source": [
    "y_train.shape,y_test.shape\n"
   ]
  },
  {
   "source": [
    "#### Instanciando classificador"
   ],
   "cell_type": "markdown",
   "metadata": {}
  },
  {
   "cell_type": "code",
   "execution_count": 20,
   "metadata": {},
   "outputs": [],
   "source": [
    "clf = DecisionTreeClassifier(criterion=\"entropy\")"
   ]
  },
  {
   "source": [
    "#### Treinamentodo modelo"
   ],
   "cell_type": "markdown",
   "metadata": {}
  },
  {
   "cell_type": "code",
   "execution_count": 21,
   "metadata": {},
   "outputs": [],
   "source": [
    "clf = clf.fit(X_train,y_train)"
   ]
  },
  {
   "source": [
    "#### Verificação das features mais importantes"
   ],
   "cell_type": "markdown",
   "metadata": {}
  },
  {
   "cell_type": "code",
   "execution_count": 22,
   "metadata": {},
   "outputs": [
    {
     "output_type": "stream",
     "name": "stdout",
     "text": [
      "condominio:0.30462396308794426\nnum_suites:0.047918265128657156\nnum_vagas:0.07565817107836371\nnum_quartos:0.02686752050630142\narea:0.2624099507446917\ntipo_imovel:0.2825221294540418\n"
     ]
    }
   ],
   "source": [
    "for feature,importancia in zip(df.columns,clf.feature_importances_):\n",
    "    print(\"{}:{}\".format(feature,importancia))\n"
   ]
  },
  {
   "source": [
    "#### Predição"
   ],
   "cell_type": "markdown",
   "metadata": {}
  },
  {
   "cell_type": "code",
   "execution_count": 23,
   "metadata": {},
   "outputs": [],
   "source": [
    "resultado = clf.predict(X_test)\n",
    "#resultado"
   ]
  },
  {
   "source": [
    "#### Matriz de confusão"
   ],
   "cell_type": "markdown",
   "metadata": {}
  },
  {
   "cell_type": "code",
   "execution_count": 24,
   "metadata": {},
   "outputs": [
    {
     "output_type": "stream",
     "name": "stdout",
     "text": [
      "Predicted           Apartamento  Casa  Casa de Condomínio  All\nReal                                                          \nApartamento                 383    72                  22  477\nCasa                         70   367                  14  451\nCasa de Condomínio           25    19                  11   55\nAll                         478   458                  47  983\n"
     ]
    }
   ],
   "source": [
    "print (pd.crosstab(y_test,resultado, rownames=['Real'], colnames=['Predicted'], margins=True))"
   ]
  },
  {
   "source": [
    "#### Relatório da classificação Árvore de Decisão"
   ],
   "cell_type": "markdown",
   "metadata": {}
  },
  {
   "cell_type": "code",
   "execution_count": 25,
   "metadata": {},
   "outputs": [
    {
     "output_type": "stream",
     "name": "stdout",
     "text": [
      "                    precision    recall  f1-score   support\n\n       Apartamento       0.80      0.80      0.80       477\n              Casa       0.80      0.81      0.81       451\nCasa de Condomínio       0.23      0.20      0.22        55\n\n          accuracy                           0.77       983\n         macro avg       0.61      0.61      0.61       983\n      weighted avg       0.77      0.77      0.77       983\n\n"
     ]
    }
   ],
   "source": [
    "print(metrics.classification_report(y_test,resultado))"
   ]
  },
  {
   "cell_type": "code",
   "execution_count": null,
   "metadata": {},
   "outputs": [],
   "source": []
  }
 ]
}