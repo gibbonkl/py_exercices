{
 "metadata": {
  "language_info": {
   "codemirror_mode": {
    "name": "ipython",
    "version": 3
   },
   "file_extension": ".py",
   "mimetype": "text/x-python",
   "name": "python",
   "nbconvert_exporter": "python",
   "pygments_lexer": "ipython3",
   "version": "3.8.10"
  },
  "orig_nbformat": 4,
  "kernelspec": {
   "name": "python3",
   "display_name": "Python 3.8.10 64-bit"
  },
  "interpreter": {
   "hash": "916dbcbb3f70747c44a77c7bcd40155683ae19c65e1c03b4aa3499c5328201f1"
  }
 },
 "nbformat": 4,
 "nbformat_minor": 2,
 "cells": [
  {
   "cell_type": "code",
   "execution_count": 1,
   "source": [
    "import pandas as pd\n",
    "import matplotlib.pyplot as plt"
   ],
   "outputs": [],
   "metadata": {}
  },
  {
   "cell_type": "markdown",
   "source": [
    "### Tratamento de dados ###"
   ],
   "metadata": {}
  },
  {
   "cell_type": "code",
   "execution_count": 2,
   "source": [
    "df = pd.read_csv('zap_imoveis.csv', index_col='id')\n",
    "df.info()"
   ],
   "outputs": [
    {
     "output_type": "stream",
     "name": "stdout",
     "text": [
      "<class 'pandas.core.frame.DataFrame'>\n",
      "Int64Index: 3944 entries, 0 to 3943\n",
      "Data columns (total 13 columns):\n",
      " #   Column       Non-Null Count  Dtype  \n",
      "---  ------       --------------  -----  \n",
      " 0   condominio   3944 non-null   float64\n",
      " 1   anunciante   3944 non-null   object \n",
      " 2   num_suites   3944 non-null   float64\n",
      " 3   num_vagas    3944 non-null   float64\n",
      " 4   num_quartos  3944 non-null   float64\n",
      " 5   area         3944 non-null   float64\n",
      " 6   rua          2932 non-null   object \n",
      " 7   regiao       3944 non-null   object \n",
      " 8   descricao    3764 non-null   object \n",
      " 9   tipo_imovel  3944 non-null   object \n",
      " 10  localidade   3944 non-null   object \n",
      " 11  bairro       3944 non-null   object \n",
      " 12  preco        3944 non-null   int64  \n",
      "dtypes: float64(5), int64(1), object(7)\n",
      "memory usage: 431.4+ KB\n"
     ]
    }
   ],
   "metadata": {}
  },
  {
   "cell_type": "markdown",
   "source": [
    "#### limpeza da base"
   ],
   "metadata": {}
  },
  {
   "cell_type": "code",
   "execution_count": 3,
   "source": [
    "df = df.drop(['anunciante','descricao','localidade','rua','regiao','bairro'], axis = 1)\n",
    "df = df.query(\"tipo_imovel == 'Apartamento' or tipo_imovel == 'Casa' or tipo_imovel == 'Casa de Condomínio'\")\n",
    "df.head().T"
   ],
   "outputs": [
    {
     "output_type": "execute_result",
     "data": {
      "text/plain": [
       "id                0       1       2       3       4\n",
       "condominio      0.0     0.0    18.0   230.0   680.0\n",
       "num_suites      2.0     0.0     0.0     0.0     1.0\n",
       "num_vagas       2.0     0.0     1.0     1.0     1.0\n",
       "num_quartos     3.0     0.0     2.0     2.0     3.0\n",
       "area          150.0   360.0    45.0    55.0   147.0\n",
       "tipo_imovel    Casa    Casa    Casa    Casa    Casa\n",
       "preco        570000  200000  170000  250000  600000"
      ],
      "text/html": [
       "<div>\n",
       "<style scoped>\n",
       "    .dataframe tbody tr th:only-of-type {\n",
       "        vertical-align: middle;\n",
       "    }\n",
       "\n",
       "    .dataframe tbody tr th {\n",
       "        vertical-align: top;\n",
       "    }\n",
       "\n",
       "    .dataframe thead th {\n",
       "        text-align: right;\n",
       "    }\n",
       "</style>\n",
       "<table border=\"1\" class=\"dataframe\">\n",
       "  <thead>\n",
       "    <tr style=\"text-align: right;\">\n",
       "      <th>id</th>\n",
       "      <th>0</th>\n",
       "      <th>1</th>\n",
       "      <th>2</th>\n",
       "      <th>3</th>\n",
       "      <th>4</th>\n",
       "    </tr>\n",
       "  </thead>\n",
       "  <tbody>\n",
       "    <tr>\n",
       "      <th>condominio</th>\n",
       "      <td>0.0</td>\n",
       "      <td>0.0</td>\n",
       "      <td>18.0</td>\n",
       "      <td>230.0</td>\n",
       "      <td>680.0</td>\n",
       "    </tr>\n",
       "    <tr>\n",
       "      <th>num_suites</th>\n",
       "      <td>2.0</td>\n",
       "      <td>0.0</td>\n",
       "      <td>0.0</td>\n",
       "      <td>0.0</td>\n",
       "      <td>1.0</td>\n",
       "    </tr>\n",
       "    <tr>\n",
       "      <th>num_vagas</th>\n",
       "      <td>2.0</td>\n",
       "      <td>0.0</td>\n",
       "      <td>1.0</td>\n",
       "      <td>1.0</td>\n",
       "      <td>1.0</td>\n",
       "    </tr>\n",
       "    <tr>\n",
       "      <th>num_quartos</th>\n",
       "      <td>3.0</td>\n",
       "      <td>0.0</td>\n",
       "      <td>2.0</td>\n",
       "      <td>2.0</td>\n",
       "      <td>3.0</td>\n",
       "    </tr>\n",
       "    <tr>\n",
       "      <th>area</th>\n",
       "      <td>150.0</td>\n",
       "      <td>360.0</td>\n",
       "      <td>45.0</td>\n",
       "      <td>55.0</td>\n",
       "      <td>147.0</td>\n",
       "    </tr>\n",
       "    <tr>\n",
       "      <th>tipo_imovel</th>\n",
       "      <td>Casa</td>\n",
       "      <td>Casa</td>\n",
       "      <td>Casa</td>\n",
       "      <td>Casa</td>\n",
       "      <td>Casa</td>\n",
       "    </tr>\n",
       "    <tr>\n",
       "      <th>preco</th>\n",
       "      <td>570000</td>\n",
       "      <td>200000</td>\n",
       "      <td>170000</td>\n",
       "      <td>250000</td>\n",
       "      <td>600000</td>\n",
       "    </tr>\n",
       "  </tbody>\n",
       "</table>\n",
       "</div>"
      ]
     },
     "metadata": {},
     "execution_count": 3
    }
   ],
   "metadata": {}
  },
  {
   "cell_type": "code",
   "execution_count": 4,
   "source": [
    "df['tipo_imovel'].value_counts()"
   ],
   "outputs": [
    {
     "output_type": "execute_result",
     "data": {
      "text/plain": [
       "Apartamento           1623\n",
       "Casa                  1502\n",
       "Casa de Condomínio     150\n",
       "Name: tipo_imovel, dtype: int64"
      ]
     },
     "metadata": {},
     "execution_count": 4
    }
   ],
   "metadata": {}
  },
  {
   "cell_type": "markdown",
   "source": [
    "### Definição de dados de para treino e teste"
   ],
   "metadata": {}
  },
  {
   "cell_type": "code",
   "execution_count": 5,
   "source": [
    "from sklearn.model_selection import train_test_split\n",
    "\n",
    "X = df.drop('tipo_imovel',axis=1)\n",
    "y = df['tipo_imovel']\n",
    "\n",
    "X_train, X_test, y_train, y_test = train_test_split(X, y, test_size=0.3)"
   ],
   "outputs": [],
   "metadata": {}
  },
  {
   "cell_type": "markdown",
   "source": [
    "### Ajuste na escala dos dados"
   ],
   "metadata": {}
  },
  {
   "cell_type": "code",
   "execution_count": 6,
   "source": [
    "from sklearn.preprocessing import StandardScaler\n",
    "\n",
    "scaler = StandardScaler()  \n",
    "scaler.fit(X_train)\n",
    "X_train = scaler.transform(X_train)  \n",
    "X_test = scaler.transform(X_test)"
   ],
   "outputs": [],
   "metadata": {}
  },
  {
   "cell_type": "markdown",
   "source": [
    "## KNN"
   ],
   "metadata": {}
  },
  {
   "cell_type": "markdown",
   "source": [
    "#### Treino do modelo"
   ],
   "metadata": {}
  },
  {
   "cell_type": "code",
   "execution_count": 7,
   "source": [
    "from sklearn.neighbors import KNeighborsClassifier\n",
    "\n",
    "knn = KNeighborsClassifier(n_neighbors=3)\n",
    "\n",
    "knn.fit(X_train, y_train)"
   ],
   "outputs": [
    {
     "output_type": "execute_result",
     "data": {
      "text/plain": [
       "KNeighborsClassifier(n_neighbors=3)"
      ]
     },
     "metadata": {},
     "execution_count": 7
    }
   ],
   "metadata": {}
  },
  {
   "cell_type": "markdown",
   "source": [
    "#### Predição"
   ],
   "metadata": {}
  },
  {
   "cell_type": "code",
   "execution_count": 8,
   "source": [
    "resultado_knn = knn.predict(X_test)"
   ],
   "outputs": [],
   "metadata": {}
  },
  {
   "cell_type": "markdown",
   "source": [
    "#### Matriz de confusão"
   ],
   "metadata": {}
  },
  {
   "cell_type": "code",
   "execution_count": 9,
   "source": [
    "print (pd.crosstab(y_test,resultado_knn, rownames=['Real'], colnames=['Predicted'], margins=True))"
   ],
   "outputs": [
    {
     "output_type": "stream",
     "name": "stdout",
     "text": [
      "Predicted           Apartamento  Casa  Casa de Condomínio  All\n",
      "Real                                                          \n",
      "Apartamento                 417    84                   4  505\n",
      "Casa                         77   350                   5  432\n",
      "Casa de Condomínio           22    15                   9   46\n",
      "All                         516   449                  18  983\n"
     ]
    }
   ],
   "metadata": {}
  },
  {
   "cell_type": "markdown",
   "source": [
    "#### Relatório da classificação KNN"
   ],
   "metadata": {}
  },
  {
   "cell_type": "code",
   "execution_count": 10,
   "source": [
    "from sklearn import metrics\n",
    "\n",
    "print(metrics.classification_report(y_test,resultado_knn))"
   ],
   "outputs": [
    {
     "output_type": "stream",
     "name": "stdout",
     "text": [
      "                    precision    recall  f1-score   support\n",
      "\n",
      "       Apartamento       0.81      0.83      0.82       505\n",
      "              Casa       0.78      0.81      0.79       432\n",
      "Casa de Condomínio       0.50      0.20      0.28        46\n",
      "\n",
      "          accuracy                           0.79       983\n",
      "         macro avg       0.70      0.61      0.63       983\n",
      "      weighted avg       0.78      0.79      0.78       983\n",
      "\n"
     ]
    }
   ],
   "metadata": {}
  },
  {
   "cell_type": "markdown",
   "source": [
    "#### Verificação de ajustes para o modelo ###"
   ],
   "metadata": {}
  },
  {
   "cell_type": "code",
   "execution_count": 11,
   "source": [
    "from sklearn.model_selection import GridSearchCV\n",
    "\n",
    "#adicionando a quantidade de valores para k (número de vizinhos) a um dicionário\n",
    "k_list = list(range(1,31))\n",
    "parametros = dict(n_neighbors=k_list)\n",
    "\n",
    "#passando nosso modelo, os valores para k, dobras pra validação cruzada e o scoring para o objeto GridSearch \n",
    "grid = GridSearchCV(knn, parametros, cv=5, scoring='accuracy')\n",
    "\n",
    "#treinamento\n",
    "grid.fit(df.drop('tipo_imovel',axis=1), df['tipo_imovel'])\n",
    "\n",
    "print(\"Melhor parâmetro {} com acurácia de {:.2%} \".format(grid.best_params_,grid.best_score_))"
   ],
   "outputs": [
    {
     "output_type": "stream",
     "name": "stdout",
     "text": [
      "Melhor parâmetro {'n_neighbors': 3} com acurácia de 72.82% \n"
     ]
    }
   ],
   "metadata": {}
  },
  {
   "cell_type": "markdown",
   "source": [
    "## Decision Tree\n"
   ],
   "metadata": {}
  },
  {
   "cell_type": "markdown",
   "source": [
    "#### Treinamentodo modelo"
   ],
   "metadata": {}
  },
  {
   "cell_type": "code",
   "execution_count": 12,
   "source": [
    "from sklearn.tree import DecisionTreeClassifier\n",
    "\n",
    "clf = DecisionTreeClassifier(criterion=\"entropy\")\n",
    "\n",
    "clf = clf.fit(X_train,y_train)"
   ],
   "outputs": [],
   "metadata": {}
  },
  {
   "cell_type": "markdown",
   "source": [
    "#### Verificação das features mais importantes"
   ],
   "metadata": {}
  },
  {
   "cell_type": "code",
   "execution_count": 13,
   "source": [
    "for feature,importancia in zip(df.columns,clf.feature_importances_):\n",
    "    print(\"{}: {:.2%}\".format(feature,importancia))"
   ],
   "outputs": [
    {
     "output_type": "stream",
     "name": "stdout",
     "text": [
      "condominio: 30.69%\n",
      "num_suites: 4.80%\n",
      "num_vagas: 7.60%\n",
      "num_quartos: 3.44%\n",
      "area: 27.94%\n",
      "tipo_imovel: 25.52%\n"
     ]
    }
   ],
   "metadata": {}
  },
  {
   "cell_type": "markdown",
   "source": [
    "#### Predição"
   ],
   "metadata": {}
  },
  {
   "cell_type": "code",
   "execution_count": 14,
   "source": [
    "resultado_clf = clf.predict(X_test)"
   ],
   "outputs": [],
   "metadata": {}
  },
  {
   "cell_type": "markdown",
   "source": [
    "#### Matriz de confusão"
   ],
   "metadata": {}
  },
  {
   "cell_type": "code",
   "execution_count": 15,
   "source": [
    "print (pd.crosstab(y_test,resultado_clf, rownames=['Real'], colnames=['Predicted'], margins=True))"
   ],
   "outputs": [
    {
     "output_type": "stream",
     "name": "stdout",
     "text": [
      "Predicted           Apartamento  Casa  Casa de Condomínio  All\n",
      "Real                                                          \n",
      "Apartamento                 401    80                  24  505\n",
      "Casa                         68   354                  10  432\n",
      "Casa de Condomínio           16    17                  13   46\n",
      "All                         485   451                  47  983\n"
     ]
    }
   ],
   "metadata": {}
  },
  {
   "cell_type": "markdown",
   "source": [
    "#### Relatório da classificação Árvore de Decisão"
   ],
   "metadata": {}
  },
  {
   "cell_type": "code",
   "execution_count": 16,
   "source": [
    "print(metrics.classification_report(y_test,resultado_clf))"
   ],
   "outputs": [
    {
     "output_type": "stream",
     "name": "stdout",
     "text": [
      "                    precision    recall  f1-score   support\n",
      "\n",
      "       Apartamento       0.83      0.79      0.81       505\n",
      "              Casa       0.78      0.82      0.80       432\n",
      "Casa de Condomínio       0.28      0.28      0.28        46\n",
      "\n",
      "          accuracy                           0.78       983\n",
      "         macro avg       0.63      0.63      0.63       983\n",
      "      weighted avg       0.78      0.78      0.78       983\n",
      "\n"
     ]
    }
   ],
   "metadata": {}
  }
 ]
}