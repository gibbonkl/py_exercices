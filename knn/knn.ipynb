{
 "metadata": {
  "language_info": {
   "codemirror_mode": {
    "name": "ipython",
    "version": 3
   },
   "file_extension": ".py",
   "mimetype": "text/x-python",
   "name": "python",
   "nbconvert_exporter": "python",
   "pygments_lexer": "ipython3",
   "version": "3.8.10"
  },
  "orig_nbformat": 4,
  "kernelspec": {
   "name": "python3",
   "display_name": "Python 3.8.10 64-bit"
  },
  "interpreter": {
   "hash": "916dbcbb3f70747c44a77c7bcd40155683ae19c65e1c03b4aa3499c5328201f1"
  }
 },
 "nbformat": 4,
 "nbformat_minor": 2,
 "cells": [
  {
   "cell_type": "code",
   "execution_count": 61,
   "metadata": {},
   "outputs": [],
   "source": [
    "import pandas as pd\n",
    "import matplotlib.pyplot as plt"
   ]
  },
  {
   "source": [
    "### importação de dados ###"
   ],
   "cell_type": "markdown",
   "metadata": {}
  },
  {
   "cell_type": "code",
   "execution_count": 62,
   "metadata": {},
   "outputs": [
    {
     "output_type": "stream",
     "name": "stdout",
     "text": [
      "<class 'pandas.core.frame.DataFrame'>\nInt64Index: 3944 entries, 0 to 3943\nData columns (total 13 columns):\n #   Column       Non-Null Count  Dtype  \n---  ------       --------------  -----  \n 0   condominio   3944 non-null   float64\n 1   anunciante   3944 non-null   object \n 2   num_suites   3944 non-null   float64\n 3   num_vagas    3944 non-null   float64\n 4   num_quartos  3944 non-null   float64\n 5   area         3944 non-null   float64\n 6   rua          2932 non-null   object \n 7   regiao       3944 non-null   object \n 8   descricao    3764 non-null   object \n 9   tipo_imovel  3944 non-null   object \n 10  localidade   3944 non-null   object \n 11  bairro       3944 non-null   object \n 12  preco        3944 non-null   int64  \ndtypes: float64(5), int64(1), object(7)\nmemory usage: 431.4+ KB\n"
     ]
    }
   ],
   "source": [
    "df = pd.read_csv('zap_imoveis.csv', index_col='id')\n",
    "df.info()"
   ]
  },
  {
   "source": [
    "### limpeza da base ###"
   ],
   "cell_type": "markdown",
   "metadata": {}
  },
  {
   "cell_type": "code",
   "execution_count": 63,
   "metadata": {},
   "outputs": [
    {
     "output_type": "execute_result",
     "data": {
      "text/plain": [
       "id                0       1       2       3       4\n",
       "condominio      0.0     0.0    18.0   230.0   680.0\n",
       "num_suites      2.0     0.0     0.0     0.0     1.0\n",
       "num_vagas       2.0     0.0     1.0     1.0     1.0\n",
       "num_quartos     3.0     0.0     2.0     2.0     3.0\n",
       "area          150.0   360.0    45.0    55.0   147.0\n",
       "tipo_imovel    Casa    Casa    Casa    Casa    Casa\n",
       "preco        570000  200000  170000  250000  600000"
      ],
      "text/html": "<div>\n<style scoped>\n    .dataframe tbody tr th:only-of-type {\n        vertical-align: middle;\n    }\n\n    .dataframe tbody tr th {\n        vertical-align: top;\n    }\n\n    .dataframe thead th {\n        text-align: right;\n    }\n</style>\n<table border=\"1\" class=\"dataframe\">\n  <thead>\n    <tr style=\"text-align: right;\">\n      <th>id</th>\n      <th>0</th>\n      <th>1</th>\n      <th>2</th>\n      <th>3</th>\n      <th>4</th>\n    </tr>\n  </thead>\n  <tbody>\n    <tr>\n      <th>condominio</th>\n      <td>0.0</td>\n      <td>0.0</td>\n      <td>18.0</td>\n      <td>230.0</td>\n      <td>680.0</td>\n    </tr>\n    <tr>\n      <th>num_suites</th>\n      <td>2.0</td>\n      <td>0.0</td>\n      <td>0.0</td>\n      <td>0.0</td>\n      <td>1.0</td>\n    </tr>\n    <tr>\n      <th>num_vagas</th>\n      <td>2.0</td>\n      <td>0.0</td>\n      <td>1.0</td>\n      <td>1.0</td>\n      <td>1.0</td>\n    </tr>\n    <tr>\n      <th>num_quartos</th>\n      <td>3.0</td>\n      <td>0.0</td>\n      <td>2.0</td>\n      <td>2.0</td>\n      <td>3.0</td>\n    </tr>\n    <tr>\n      <th>area</th>\n      <td>150.0</td>\n      <td>360.0</td>\n      <td>45.0</td>\n      <td>55.0</td>\n      <td>147.0</td>\n    </tr>\n    <tr>\n      <th>tipo_imovel</th>\n      <td>Casa</td>\n      <td>Casa</td>\n      <td>Casa</td>\n      <td>Casa</td>\n      <td>Casa</td>\n    </tr>\n    <tr>\n      <th>preco</th>\n      <td>570000</td>\n      <td>200000</td>\n      <td>170000</td>\n      <td>250000</td>\n      <td>600000</td>\n    </tr>\n  </tbody>\n</table>\n</div>"
     },
     "metadata": {},
     "execution_count": 63
    }
   ],
   "source": [
    "df = df.drop(['anunciante','descricao','localidade','rua','regiao','bairro'], axis = 1)\n",
    "df = df.query(\"tipo_imovel == 'Apartamento' or tipo_imovel == 'Casa' or tipo_imovel == 'Casa de Condomínio'\")\n",
    "df.head().T"
   ]
  },
  {
   "cell_type": "code",
   "execution_count": 64,
   "metadata": {},
   "outputs": [
    {
     "output_type": "execute_result",
     "data": {
      "text/plain": [
       "Apartamento           1623\n",
       "Casa                  1502\n",
       "Casa de Condomínio     150\n",
       "Name: tipo_imovel, dtype: int64"
      ]
     },
     "metadata": {},
     "execution_count": 64
    }
   ],
   "source": [
    "df['tipo_imovel'].value_counts()\n"
   ]
  },
  {
   "source": [
    "### definição de dados de treino e teste ###"
   ],
   "cell_type": "markdown",
   "metadata": {}
  },
  {
   "cell_type": "code",
   "execution_count": 65,
   "metadata": {},
   "outputs": [],
   "source": [
    "from sklearn.model_selection import train_test_split\n",
    "X_train, X_test, y_train, y_test = train_test_split(df.drop('tipo_imovel',axis=1), df['tipo_imovel'], test_size=0.3)"
   ]
  },
  {
   "source": [
    "### Definição do número de vizinhos no classificador ###"
   ],
   "cell_type": "markdown",
   "metadata": {}
  },
  {
   "cell_type": "code",
   "execution_count": 66,
   "metadata": {},
   "outputs": [],
   "source": [
    "from sklearn.neighbors import KNeighborsClassifier\n",
    "knn = KNeighborsClassifier(n_neighbors=3)"
   ]
  },
  {
   "source": [
    "### aplicando dados de treino ao knn ###"
   ],
   "cell_type": "markdown",
   "metadata": {}
  },
  {
   "cell_type": "code",
   "execution_count": 67,
   "metadata": {},
   "outputs": [
    {
     "output_type": "execute_result",
     "data": {
      "text/plain": [
       "KNeighborsClassifier(n_neighbors=3)"
      ]
     },
     "metadata": {},
     "execution_count": 67
    }
   ],
   "source": [
    "knn.fit(X_train, y_train)"
   ]
  },
  {
   "source": [
    "### aplicando knn aos dados de teste ###"
   ],
   "cell_type": "markdown",
   "metadata": {}
  },
  {
   "cell_type": "code",
   "execution_count": 68,
   "metadata": {},
   "outputs": [],
   "source": [
    "resultado = knn.predict(X_test)"
   ]
  },
  {
   "source": [
    "### criando matriz de confusão ###"
   ],
   "cell_type": "markdown",
   "metadata": {}
  },
  {
   "cell_type": "code",
   "execution_count": 69,
   "metadata": {},
   "outputs": [
    {
     "output_type": "stream",
     "name": "stdout",
     "text": [
      "Predicted           Apartamento  Casa  Casa de Condomínio  All\nReal                                                          \nApartamento                 387    99                   6  492\nCasa                        108   326                   2  436\nCasa de Condomínio           33    17                   5   55\nAll                         528   442                  13  983\n"
     ]
    }
   ],
   "source": [
    "print (pd.crosstab(y_test,resultado, rownames=['Real'], colnames=['Predicted'], margins=True))"
   ]
  },
  {
   "source": [
    "### gerando as métricas de classificação ###"
   ],
   "cell_type": "markdown",
   "metadata": {}
  },
  {
   "cell_type": "code",
   "execution_count": 70,
   "metadata": {},
   "outputs": [
    {
     "output_type": "stream",
     "name": "stdout",
     "text": [
      "                    precision    recall  f1-score   support\n\n       Apartamento       0.73      0.79      0.76       492\n              Casa       0.74      0.75      0.74       436\nCasa de Condomínio       0.38      0.09      0.15        55\n\n          accuracy                           0.73       983\n         macro avg       0.62      0.54      0.55       983\n      weighted avg       0.72      0.73      0.72       983\n\n"
     ]
    }
   ],
   "source": [
    "from sklearn import metrics\n",
    "print(metrics.classification_report(y_test,resultado))"
   ]
  },
  {
   "source": [
    "### verificando ajustes para o modelo ###"
   ],
   "cell_type": "markdown",
   "metadata": {}
  },
  {
   "cell_type": "code",
   "execution_count": 71,
   "metadata": {},
   "outputs": [],
   "source": [
    "from sklearn.model_selection import GridSearchCV\n"
   ]
  },
  {
   "source": [
    "### adicionando a quantidade de valores para k (número de vizinhos) a um dicionário ###"
   ],
   "cell_type": "markdown",
   "metadata": {}
  },
  {
   "cell_type": "code",
   "execution_count": 72,
   "metadata": {},
   "outputs": [],
   "source": [
    "k_list = list(range(1,31))\n",
    "parametros = dict(n_neighbors=k_list)\n"
   ]
  },
  {
   "source": [
    "### passando nosso modelo, os valores para k, dobras pra validação cruzada e o scoring para o objeto GridSearch ###"
   ],
   "cell_type": "markdown",
   "metadata": {}
  },
  {
   "cell_type": "code",
   "execution_count": 73,
   "metadata": {},
   "outputs": [],
   "source": [
    "grid = GridSearchCV(knn, parametros, cv=5, scoring='accuracy')\n"
   ]
  },
  {
   "source": [
    "### treinando o objeto ###"
   ],
   "cell_type": "markdown",
   "metadata": {}
  },
  {
   "cell_type": "code",
   "execution_count": 74,
   "metadata": {
    "tags": []
   },
   "outputs": [
    {
     "output_type": "execute_result",
     "data": {
      "text/plain": [
       "GridSearchCV(cv=5, estimator=KNeighborsClassifier(n_neighbors=3),\n",
       "             param_grid={'n_neighbors': [1, 2, 3, 4, 5, 6, 7, 8, 9, 10, 11, 12,\n",
       "                                         13, 14, 15, 16, 17, 18, 19, 20, 21, 22,\n",
       "                                         23, 24, 25, 26, 27, 28, 29, 30]},\n",
       "             scoring='accuracy')"
      ]
     },
     "metadata": {},
     "execution_count": 74
    }
   ],
   "source": [
    "grid.fit(df.drop('tipo_imovel',axis=1), df['tipo_imovel'])"
   ]
  },
  {
   "source": [
    "### descobrindo o parâmetro com melhor acurácia ###"
   ],
   "cell_type": "markdown",
   "metadata": {}
  },
  {
   "cell_type": "code",
   "execution_count": 75,
   "metadata": {},
   "outputs": [
    {
     "output_type": "stream",
     "name": "stdout",
     "text": [
      "Melhor parâmetro {'n_neighbors': 3} com acurácia de 0.7282442748091602 \n"
     ]
    }
   ],
   "source": [
    "print(\"Melhor parâmetro {} com acurácia de {} \".format(grid.best_params_,grid.best_score_))"
   ]
  }
 ]
}