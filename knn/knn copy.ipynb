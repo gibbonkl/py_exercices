{
 "metadata": {
  "language_info": {
   "codemirror_mode": {
    "name": "ipython",
    "version": 3
   },
   "file_extension": ".py",
   "mimetype": "text/x-python",
   "name": "python",
   "nbconvert_exporter": "python",
   "pygments_lexer": "ipython3",
   "version": "3.8.10"
  },
  "orig_nbformat": 4,
  "kernelspec": {
   "name": "python3",
   "display_name": "Python 3.8.10 64-bit"
  },
  "interpreter": {
   "hash": "916dbcbb3f70747c44a77c7bcd40155683ae19c65e1c03b4aa3499c5328201f1"
  }
 },
 "nbformat": 4,
 "nbformat_minor": 2,
 "cells": [
  {
   "cell_type": "code",
   "execution_count": 11,
   "metadata": {},
   "outputs": [],
   "source": [
    "import pandas as pd\n",
    "import matplotlib.pyplot as plt"
   ]
  },
  {
   "cell_type": "code",
   "execution_count": 12,
   "metadata": {},
   "outputs": [],
   "source": [
    "df = pd.read_csv('zap_imoveis.csv', index_col='id')"
   ]
  },
  {
   "cell_type": "code",
   "execution_count": 13,
   "metadata": {},
   "outputs": [
    {
     "output_type": "execute_result",
     "data": {
      "text/plain": [
       "    condominio  num_suites  num_vagas  num_quartos   area tipo_imovel   preco\n",
       "id                                                                           \n",
       "0          0.0         2.0        2.0          3.0  150.0        Casa  570000\n",
       "1          0.0         0.0        0.0          0.0  360.0        Casa  200000\n",
       "2         18.0         0.0        1.0          2.0   45.0        Casa  170000\n",
       "3        230.0         0.0        1.0          2.0   55.0        Casa  250000\n",
       "4        680.0         1.0        1.0          3.0  147.0        Casa  600000"
      ],
      "text/html": "<div>\n<style scoped>\n    .dataframe tbody tr th:only-of-type {\n        vertical-align: middle;\n    }\n\n    .dataframe tbody tr th {\n        vertical-align: top;\n    }\n\n    .dataframe thead th {\n        text-align: right;\n    }\n</style>\n<table border=\"1\" class=\"dataframe\">\n  <thead>\n    <tr style=\"text-align: right;\">\n      <th></th>\n      <th>condominio</th>\n      <th>num_suites</th>\n      <th>num_vagas</th>\n      <th>num_quartos</th>\n      <th>area</th>\n      <th>tipo_imovel</th>\n      <th>preco</th>\n    </tr>\n    <tr>\n      <th>id</th>\n      <th></th>\n      <th></th>\n      <th></th>\n      <th></th>\n      <th></th>\n      <th></th>\n      <th></th>\n    </tr>\n  </thead>\n  <tbody>\n    <tr>\n      <th>0</th>\n      <td>0.0</td>\n      <td>2.0</td>\n      <td>2.0</td>\n      <td>3.0</td>\n      <td>150.0</td>\n      <td>Casa</td>\n      <td>570000</td>\n    </tr>\n    <tr>\n      <th>1</th>\n      <td>0.0</td>\n      <td>0.0</td>\n      <td>0.0</td>\n      <td>0.0</td>\n      <td>360.0</td>\n      <td>Casa</td>\n      <td>200000</td>\n    </tr>\n    <tr>\n      <th>2</th>\n      <td>18.0</td>\n      <td>0.0</td>\n      <td>1.0</td>\n      <td>2.0</td>\n      <td>45.0</td>\n      <td>Casa</td>\n      <td>170000</td>\n    </tr>\n    <tr>\n      <th>3</th>\n      <td>230.0</td>\n      <td>0.0</td>\n      <td>1.0</td>\n      <td>2.0</td>\n      <td>55.0</td>\n      <td>Casa</td>\n      <td>250000</td>\n    </tr>\n    <tr>\n      <th>4</th>\n      <td>680.0</td>\n      <td>1.0</td>\n      <td>1.0</td>\n      <td>3.0</td>\n      <td>147.0</td>\n      <td>Casa</td>\n      <td>600000</td>\n    </tr>\n  </tbody>\n</table>\n</div>"
     },
     "metadata": {},
     "execution_count": 13
    }
   ],
   "source": [
    "df = df.drop(['anunciante','descricao','localidade','rua','regiao','bairro'], axis = 1)\n",
    "df = df.query(\"tipo_imovel == 'Apartamento' or tipo_imovel == 'Casa' or tipo_imovel == 'Casa de Condomínio'\")\n",
    "df.head()"
   ]
  },
  {
   "cell_type": "code",
   "execution_count": 14,
   "metadata": {},
   "outputs": [],
   "source": [
    "from sklearn.model_selection import train_test_split\n",
    "X_train, X_test, y_train, y_test = train_test_split(df.drop('tipo_imovel',axis=1), df['tipo_imovel'], test_size=0.3)"
   ]
  },
  {
   "cell_type": "code",
   "execution_count": 15,
   "metadata": {},
   "outputs": [],
   "source": [
    "from sklearn.neighbors import KNeighborsClassifier\n",
    "knn = KNeighborsClassifier(n_neighbors=3)"
   ]
  },
  {
   "cell_type": "code",
   "execution_count": 16,
   "metadata": {},
   "outputs": [
    {
     "output_type": "execute_result",
     "data": {
      "text/plain": [
       "KNeighborsClassifier(n_neighbors=3)"
      ]
     },
     "metadata": {},
     "execution_count": 16
    }
   ],
   "source": [
    "knn.fit(X_train, y_train)"
   ]
  },
  {
   "cell_type": "code",
   "execution_count": 17,
   "metadata": {},
   "outputs": [
    {
     "output_type": "execute_result",
     "data": {
      "text/plain": [
       "array(['Casa', 'Casa', 'Apartamento', 'Apartamento', 'Apartamento',\n",
       "       'Casa', 'Casa', 'Casa', 'Casa', 'Apartamento', 'Casa',\n",
       "       'Apartamento', 'Apartamento', 'Casa', 'Apartamento', 'Casa',\n",
       "       'Apartamento', 'Casa', 'Casa', 'Casa', 'Apartamento',\n",
       "       'Apartamento', 'Apartamento', 'Apartamento', 'Apartamento', 'Casa',\n",
       "       'Casa', 'Casa', 'Apartamento', 'Apartamento', 'Casa',\n",
       "       'Apartamento', 'Casa', 'Casa', 'Casa', 'Casa', 'Casa',\n",
       "       'Apartamento', 'Apartamento', 'Apartamento', 'Casa', 'Apartamento',\n",
       "       'Apartamento', 'Casa', 'Apartamento', 'Apartamento', 'Casa',\n",
       "       'Apartamento', 'Apartamento', 'Casa', 'Casa', 'Apartamento',\n",
       "       'Casa', 'Apartamento', 'Apartamento', 'Casa', 'Casa',\n",
       "       'Apartamento', 'Casa', 'Apartamento', 'Apartamento', 'Casa',\n",
       "       'Apartamento', 'Apartamento', 'Casa', 'Casa', 'Casa', 'Casa',\n",
       "       'Apartamento', 'Casa', 'Casa', 'Apartamento', 'Apartamento',\n",
       "       'Casa', 'Casa', 'Casa', 'Apartamento', 'Casa',\n",
       "       'Casa de Condomínio', 'Casa', 'Apartamento', 'Apartamento',\n",
       "       'Apartamento', 'Apartamento', 'Apartamento', 'Apartamento',\n",
       "       'Apartamento', 'Apartamento', 'Apartamento', 'Apartamento', 'Casa',\n",
       "       'Casa', 'Casa', 'Casa', 'Apartamento', 'Apartamento',\n",
       "       'Apartamento', 'Apartamento', 'Casa', 'Apartamento', 'Casa',\n",
       "       'Casa', 'Apartamento', 'Casa', 'Apartamento', 'Apartamento',\n",
       "       'Apartamento', 'Casa', 'Apartamento', 'Casa', 'Apartamento',\n",
       "       'Apartamento', 'Apartamento', 'Apartamento', 'Apartamento', 'Casa',\n",
       "       'Casa', 'Apartamento', 'Apartamento', 'Apartamento',\n",
       "       'Casa de Condomínio', 'Apartamento', 'Apartamento', 'Apartamento',\n",
       "       'Apartamento', 'Casa', 'Casa', 'Casa', 'Apartamento', 'Casa',\n",
       "       'Apartamento', 'Apartamento', 'Apartamento', 'Apartamento', 'Casa',\n",
       "       'Casa', 'Casa', 'Casa', 'Apartamento', 'Casa', 'Casa', 'Casa',\n",
       "       'Apartamento', 'Casa', 'Apartamento', 'Casa', 'Apartamento',\n",
       "       'Apartamento', 'Apartamento', 'Apartamento', 'Casa de Condomínio',\n",
       "       'Apartamento', 'Casa', 'Apartamento', 'Apartamento', 'Apartamento',\n",
       "       'Apartamento', 'Apartamento', 'Casa', 'Casa', 'Apartamento',\n",
       "       'Apartamento', 'Casa', 'Casa', 'Apartamento', 'Casa', 'Casa',\n",
       "       'Casa', 'Casa', 'Apartamento', 'Casa', 'Apartamento',\n",
       "       'Apartamento', 'Casa', 'Apartamento', 'Casa', 'Casa', 'Casa',\n",
       "       'Apartamento', 'Casa', 'Casa', 'Casa', 'Casa', 'Apartamento',\n",
       "       'Casa', 'Apartamento', 'Apartamento', 'Casa', 'Casa',\n",
       "       'Apartamento', 'Apartamento', 'Apartamento', 'Casa', 'Apartamento',\n",
       "       'Casa', 'Apartamento', 'Casa', 'Apartamento', 'Apartamento',\n",
       "       'Apartamento', 'Apartamento', 'Apartamento', 'Casa', 'Casa',\n",
       "       'Apartamento', 'Apartamento', 'Apartamento', 'Apartamento',\n",
       "       'Apartamento', 'Casa', 'Casa', 'Casa', 'Apartamento',\n",
       "       'Apartamento', 'Casa', 'Casa', 'Apartamento', 'Casa',\n",
       "       'Apartamento', 'Casa', 'Apartamento', 'Casa', 'Casa',\n",
       "       'Apartamento', 'Apartamento', 'Casa', 'Apartamento', 'Casa',\n",
       "       'Casa', 'Apartamento', 'Apartamento', 'Apartamento', 'Casa',\n",
       "       'Casa', 'Casa', 'Apartamento', 'Casa', 'Apartamento',\n",
       "       'Apartamento', 'Apartamento', 'Casa', 'Apartamento', 'Apartamento',\n",
       "       'Casa', 'Casa', 'Apartamento', 'Apartamento', 'Casa',\n",
       "       'Apartamento', 'Casa', 'Apartamento', 'Apartamento', 'Apartamento',\n",
       "       'Casa', 'Apartamento', 'Apartamento', 'Casa', 'Casa',\n",
       "       'Apartamento', 'Casa', 'Casa', 'Casa', 'Casa', 'Casa',\n",
       "       'Apartamento', 'Casa', 'Apartamento', 'Apartamento', 'Casa',\n",
       "       'Casa', 'Apartamento', 'Casa', 'Casa', 'Apartamento', 'Casa',\n",
       "       'Casa', 'Casa', 'Casa', 'Apartamento', 'Apartamento', 'Casa',\n",
       "       'Casa', 'Casa', 'Casa', 'Apartamento', 'Casa', 'Casa', 'Casa',\n",
       "       'Casa', 'Casa', 'Casa', 'Apartamento', 'Casa', 'Apartamento',\n",
       "       'Casa', 'Casa', 'Casa', 'Apartamento', 'Casa', 'Apartamento',\n",
       "       'Apartamento', 'Apartamento', 'Casa', 'Apartamento', 'Apartamento',\n",
       "       'Apartamento', 'Apartamento', 'Apartamento', 'Casa', 'Casa',\n",
       "       'Apartamento', 'Apartamento', 'Casa', 'Apartamento', 'Apartamento',\n",
       "       'Casa', 'Casa', 'Casa', 'Apartamento', 'Apartamento', 'Casa',\n",
       "       'Casa', 'Apartamento', 'Apartamento', 'Casa', 'Apartamento',\n",
       "       'Casa', 'Casa', 'Apartamento', 'Apartamento', 'Apartamento',\n",
       "       'Apartamento', 'Apartamento', 'Casa', 'Apartamento', 'Apartamento',\n",
       "       'Casa', 'Apartamento', 'Casa', 'Apartamento', 'Apartamento',\n",
       "       'Apartamento', 'Casa', 'Apartamento', 'Apartamento',\n",
       "       'Casa de Condomínio', 'Casa', 'Apartamento', 'Casa', 'Casa',\n",
       "       'Casa', 'Apartamento', 'Casa', 'Apartamento', 'Casa',\n",
       "       'Apartamento', 'Casa', 'Casa', 'Apartamento', 'Apartamento',\n",
       "       'Casa', 'Apartamento', 'Apartamento', 'Apartamento', 'Casa',\n",
       "       'Apartamento', 'Casa de Condomínio', 'Casa', 'Apartamento', 'Casa',\n",
       "       'Apartamento', 'Apartamento', 'Apartamento', 'Apartamento', 'Casa',\n",
       "       'Apartamento', 'Casa', 'Casa', 'Casa', 'Apartamento', 'Casa',\n",
       "       'Apartamento', 'Apartamento', 'Casa', 'Apartamento', 'Apartamento',\n",
       "       'Apartamento', 'Apartamento', 'Casa', 'Apartamento', 'Apartamento',\n",
       "       'Apartamento', 'Casa', 'Casa', 'Apartamento', 'Apartamento',\n",
       "       'Apartamento', 'Casa', 'Apartamento', 'Apartamento', 'Casa',\n",
       "       'Casa', 'Apartamento', 'Apartamento', 'Apartamento', 'Apartamento',\n",
       "       'Casa', 'Apartamento', 'Casa', 'Apartamento', 'Casa',\n",
       "       'Apartamento', 'Apartamento', 'Casa', 'Apartamento', 'Apartamento',\n",
       "       'Apartamento', 'Apartamento', 'Apartamento', 'Casa', 'Casa',\n",
       "       'Apartamento', 'Apartamento', 'Apartamento', 'Apartamento', 'Casa',\n",
       "       'Casa', 'Casa', 'Apartamento', 'Apartamento', 'Casa', 'Casa',\n",
       "       'Apartamento', 'Casa', 'Apartamento', 'Apartamento', 'Apartamento',\n",
       "       'Casa', 'Apartamento', 'Casa', 'Apartamento', 'Casa',\n",
       "       'Apartamento', 'Casa', 'Casa', 'Apartamento', 'Casa', 'Casa',\n",
       "       'Casa', 'Casa', 'Casa', 'Casa', 'Casa', 'Casa', 'Apartamento',\n",
       "       'Casa', 'Casa', 'Casa', 'Apartamento', 'Apartamento',\n",
       "       'Apartamento', 'Apartamento', 'Apartamento', 'Apartamento', 'Casa',\n",
       "       'Casa', 'Apartamento', 'Casa', 'Apartamento', 'Apartamento',\n",
       "       'Apartamento', 'Casa', 'Casa', 'Apartamento', 'Casa', 'Casa',\n",
       "       'Casa', 'Casa', 'Apartamento', 'Casa', 'Apartamento', 'Casa',\n",
       "       'Apartamento', 'Casa', 'Casa', 'Casa', 'Casa', 'Apartamento',\n",
       "       'Casa', 'Apartamento', 'Casa', 'Apartamento', 'Apartamento',\n",
       "       'Apartamento', 'Casa', 'Casa', 'Casa', 'Casa', 'Casa', 'Casa',\n",
       "       'Apartamento', 'Casa', 'Apartamento', 'Casa', 'Casa de Condomínio',\n",
       "       'Casa', 'Apartamento', 'Apartamento', 'Casa', 'Casa',\n",
       "       'Apartamento', 'Casa', 'Casa', 'Apartamento', 'Casa', 'Casa',\n",
       "       'Casa', 'Apartamento', 'Apartamento', 'Casa', 'Casa',\n",
       "       'Apartamento', 'Apartamento', 'Casa', 'Casa', 'Apartamento',\n",
       "       'Apartamento', 'Casa', 'Casa', 'Apartamento', 'Casa', 'Casa',\n",
       "       'Apartamento', 'Casa', 'Apartamento', 'Casa', 'Casa', 'Casa',\n",
       "       'Casa', 'Casa', 'Apartamento', 'Casa', 'Casa', 'Casa',\n",
       "       'Apartamento', 'Apartamento', 'Apartamento', 'Casa', 'Casa',\n",
       "       'Casa', 'Casa', 'Casa de Condomínio', 'Apartamento', 'Casa',\n",
       "       'Casa', 'Casa', 'Casa', 'Apartamento', 'Casa', 'Casa',\n",
       "       'Apartamento', 'Apartamento', 'Casa', 'Apartamento', 'Casa',\n",
       "       'Apartamento', 'Apartamento', 'Apartamento', 'Apartamento',\n",
       "       'Apartamento', 'Casa', 'Casa', 'Casa', 'Casa', 'Casa', 'Casa',\n",
       "       'Casa', 'Apartamento', 'Casa', 'Casa', 'Casa', 'Casa',\n",
       "       'Apartamento', 'Casa', 'Apartamento', 'Apartamento', 'Apartamento',\n",
       "       'Apartamento', 'Apartamento', 'Apartamento', 'Casa de Condomínio',\n",
       "       'Apartamento', 'Casa', 'Apartamento', 'Casa', 'Casa',\n",
       "       'Apartamento', 'Apartamento', 'Casa', 'Apartamento', 'Casa',\n",
       "       'Apartamento', 'Apartamento', 'Apartamento', 'Apartamento',\n",
       "       'Apartamento', 'Casa', 'Casa', 'Apartamento', 'Casa', 'Casa',\n",
       "       'Apartamento', 'Apartamento', 'Apartamento', 'Apartamento', 'Casa',\n",
       "       'Apartamento', 'Apartamento', 'Casa', 'Apartamento', 'Apartamento',\n",
       "       'Casa', 'Casa', 'Casa', 'Apartamento', 'Apartamento',\n",
       "       'Apartamento', 'Apartamento', 'Casa', 'Casa', 'Apartamento',\n",
       "       'Apartamento', 'Apartamento', 'Casa', 'Apartamento', 'Apartamento',\n",
       "       'Casa', 'Casa', 'Casa', 'Casa', 'Apartamento', 'Casa', 'Casa',\n",
       "       'Casa', 'Apartamento', 'Apartamento', 'Casa de Condomínio', 'Casa',\n",
       "       'Casa', 'Casa', 'Apartamento', 'Apartamento', 'Casa',\n",
       "       'Apartamento', 'Apartamento', 'Casa', 'Apartamento', 'Casa',\n",
       "       'Casa', 'Apartamento', 'Casa', 'Apartamento', 'Casa',\n",
       "       'Apartamento', 'Apartamento', 'Apartamento', 'Apartamento', 'Casa',\n",
       "       'Apartamento', 'Apartamento', 'Casa', 'Apartamento', 'Apartamento',\n",
       "       'Casa', 'Casa', 'Casa', 'Apartamento', 'Apartamento', 'Casa',\n",
       "       'Casa', 'Apartamento', 'Casa', 'Apartamento', 'Apartamento',\n",
       "       'Apartamento', 'Casa', 'Casa', 'Casa', 'Casa',\n",
       "       'Casa de Condomínio', 'Casa', 'Apartamento', 'Apartamento',\n",
       "       'Apartamento', 'Casa', 'Apartamento', 'Casa', 'Casa',\n",
       "       'Apartamento', 'Apartamento', 'Casa', 'Apartamento', 'Casa',\n",
       "       'Casa', 'Apartamento', 'Apartamento', 'Casa', 'Apartamento',\n",
       "       'Casa', 'Apartamento', 'Casa', 'Casa', 'Apartamento', 'Casa',\n",
       "       'Apartamento', 'Apartamento', 'Apartamento', 'Casa', 'Apartamento',\n",
       "       'Casa', 'Casa', 'Casa', 'Casa', 'Apartamento', 'Apartamento',\n",
       "       'Casa', 'Casa', 'Apartamento', 'Apartamento', 'Apartamento',\n",
       "       'Apartamento', 'Casa', 'Casa', 'Casa', 'Apartamento',\n",
       "       'Apartamento', 'Apartamento', 'Casa', 'Apartamento', 'Casa',\n",
       "       'Casa', 'Casa', 'Casa', 'Apartamento', 'Apartamento', 'Casa',\n",
       "       'Casa', 'Casa', 'Apartamento', 'Apartamento', 'Apartamento',\n",
       "       'Apartamento', 'Apartamento', 'Casa', 'Apartamento', 'Casa',\n",
       "       'Casa', 'Casa', 'Apartamento', 'Casa', 'Apartamento', 'Casa',\n",
       "       'Apartamento', 'Apartamento', 'Casa', 'Casa', 'Casa', 'Casa',\n",
       "       'Casa', 'Apartamento', 'Casa', 'Casa', 'Casa', 'Casa', 'Casa',\n",
       "       'Casa', 'Casa', 'Casa', 'Casa', 'Casa', 'Casa',\n",
       "       'Casa de Condomínio', 'Casa', 'Apartamento', 'Casa', 'Apartamento',\n",
       "       'Apartamento', 'Casa', 'Casa', 'Apartamento', 'Apartamento',\n",
       "       'Apartamento', 'Casa', 'Casa', 'Apartamento', 'Casa de Condomínio',\n",
       "       'Apartamento', 'Apartamento', 'Apartamento', 'Casa', 'Apartamento',\n",
       "       'Apartamento', 'Apartamento', 'Apartamento', 'Apartamento',\n",
       "       'Apartamento', 'Apartamento', 'Apartamento', 'Apartamento', 'Casa',\n",
       "       'Casa', 'Apartamento', 'Casa', 'Apartamento', 'Casa', 'Casa',\n",
       "       'Apartamento', 'Casa', 'Casa', 'Apartamento', 'Apartamento',\n",
       "       'Apartamento', 'Apartamento', 'Apartamento', 'Casa', 'Apartamento',\n",
       "       'Casa', 'Casa', 'Apartamento', 'Apartamento', 'Apartamento',\n",
       "       'Apartamento', 'Casa', 'Casa', 'Apartamento', 'Casa', 'Casa',\n",
       "       'Casa', 'Apartamento', 'Apartamento', 'Apartamento', 'Casa',\n",
       "       'Apartamento', 'Apartamento', 'Casa', 'Apartamento', 'Casa',\n",
       "       'Apartamento', 'Casa', 'Apartamento', 'Casa', 'Apartamento',\n",
       "       'Casa', 'Casa', 'Casa', 'Apartamento', 'Casa', 'Casa', 'Casa',\n",
       "       'Casa', 'Apartamento', 'Apartamento', 'Casa', 'Apartamento',\n",
       "       'Casa', 'Apartamento', 'Casa', 'Casa', 'Apartamento', 'Casa',\n",
       "       'Casa', 'Casa', 'Casa', 'Casa', 'Casa', 'Casa', 'Casa', 'Casa',\n",
       "       'Casa', 'Apartamento', 'Apartamento', 'Apartamento', 'Casa',\n",
       "       'Apartamento', 'Apartamento', 'Casa', 'Casa', 'Apartamento',\n",
       "       'Apartamento', 'Apartamento', 'Casa', 'Casa', 'Casa', 'Casa',\n",
       "       'Casa', 'Casa', 'Apartamento', 'Casa', 'Casa', 'Apartamento',\n",
       "       'Apartamento', 'Casa', 'Casa', 'Casa', 'Casa', 'Casa',\n",
       "       'Apartamento', 'Casa', 'Apartamento', 'Casa', 'Apartamento',\n",
       "       'Apartamento', 'Apartamento', 'Apartamento', 'Apartamento',\n",
       "       'Apartamento', 'Apartamento', 'Casa', 'Casa', 'Casa', 'Casa',\n",
       "       'Casa', 'Apartamento', 'Casa', 'Casa', 'Apartamento', 'Casa',\n",
       "       'Apartamento', 'Apartamento', 'Casa', 'Apartamento', 'Apartamento',\n",
       "       'Apartamento', 'Casa', 'Apartamento', 'Apartamento', 'Casa',\n",
       "       'Apartamento', 'Apartamento', 'Apartamento', 'Apartamento', 'Casa',\n",
       "       'Casa', 'Casa', 'Casa', 'Apartamento', 'Apartamento', 'Casa',\n",
       "       'Apartamento', 'Apartamento', 'Apartamento', 'Apartamento', 'Casa',\n",
       "       'Apartamento', 'Apartamento', 'Casa', 'Apartamento', 'Casa',\n",
       "       'Casa', 'Casa', 'Apartamento', 'Apartamento', 'Casa',\n",
       "       'Apartamento', 'Apartamento', 'Casa', 'Casa', 'Casa', 'Casa',\n",
       "       'Casa', 'Apartamento', 'Apartamento', 'Apartamento', 'Casa',\n",
       "       'Casa', 'Apartamento', 'Apartamento', 'Casa', 'Apartamento',\n",
       "       'Casa', 'Casa', 'Casa', 'Casa'], dtype=object)"
      ]
     },
     "metadata": {},
     "execution_count": 17
    }
   ],
   "source": [
    "resultado = knn.predict(X_test)\n",
    "resultado"
   ]
  },
  {
   "cell_type": "code",
   "execution_count": 18,
   "metadata": {},
   "outputs": [
    {
     "output_type": "stream",
     "name": "stdout",
     "text": [
      "Predicted           Apartamento  Casa  Casa de Condomínio  All\nReal                                                          \nApartamento                 349   121                   7  477\nCasa                        111   350                   1  462\nCasa de Condomínio           26    14                   4   44\nAll                         486   485                  12  983\n"
     ]
    }
   ],
   "source": [
    "print (pd.crosstab(y_test,resultado, rownames=['Real'], colnames=['Predicted'], margins=True))"
   ]
  },
  {
   "cell_type": "code",
   "execution_count": 19,
   "metadata": {},
   "outputs": [
    {
     "output_type": "stream",
     "name": "stdout",
     "text": [
      "                    precision    recall  f1-score   support\n\n       Apartamento       0.72      0.73      0.72       477\n              Casa       0.72      0.76      0.74       462\nCasa de Condomínio       0.33      0.09      0.14        44\n\n          accuracy                           0.72       983\n         macro avg       0.59      0.53      0.54       983\n      weighted avg       0.70      0.72      0.71       983\n\n"
     ]
    }
   ],
   "source": [
    "from sklearn import metrics\n",
    "print(metrics.classification_report(y_test,resultado))"
   ]
  }
 ]
}